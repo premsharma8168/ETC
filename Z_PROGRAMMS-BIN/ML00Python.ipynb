{
 "cells": [
  {
   "cell_type": "code",
   "execution_count": 2,
   "metadata": {},
   "outputs": [
    {
     "name": "stdout",
     "output_type": "stream",
     "text": [
      "you are wrong\n"
     ]
    }
   ],
   "source": [
    "a = \"premsharma\"\n",
    "b = input(\"write accurate\")\n",
    "if a == b:\n",
    "    print(\"your answer is write\")\n",
    "else :\n",
    "    print(\"you are wrong\")"
   ]
  },
  {
   "cell_type": "code",
   "execution_count": 257,
   "metadata": {},
   "outputs": [
    {
     "name": "stdout",
     "output_type": "stream",
     "text": [
      "453\n",
      "1903\n",
      "2153\n",
      "1653\n",
      "1053\n",
      "953\n"
     ]
    }
   ],
   "source": [
    "import random\n",
    "print(random.randrange(3,3000, 50))\n",
    "print(random.randrange(3,3000, 50))\n",
    "print(random.randrange(3,3000, 50))\n",
    "print(random.randrange(3,3000, 50))\n",
    "print(random.randrange(3,3000, 50))\n",
    "print(random.randrange(3,3000, 50))"
   ]
  },
  {
   "cell_type": "code",
   "execution_count": 259,
   "metadata": {},
   "outputs": [
    {
     "name": "stdout",
     "output_type": "stream",
     "text": [
      "2.3\n"
     ]
    }
   ],
   "source": [
    "x = float(2.3)\n",
    "print(x)"
   ]
  },
  {
   "cell_type": "code",
   "execution_count": 277,
   "metadata": {},
   "outputs": [
    {
     "name": "stdout",
     "output_type": "stream",
     "text": [
      "0\n",
      "1\n",
      "2\n",
      "3\n",
      "4\n",
      "5\n",
      "6\n",
      "7\n",
      "8\n",
      "9\n",
      "10\n",
      "11\n",
      "12\n",
      "13\n",
      "14\n",
      "15\n"
     ]
    }
   ],
   "source": [
    "for x in range(0, 4**2):\n",
    "    print(x)"
   ]
  },
  {
   "cell_type": "code",
   "execution_count": 285,
   "metadata": {},
   "outputs": [
    {
     "name": "stdout",
     "output_type": "stream",
     "text": [
      "pesam\n"
     ]
    }
   ],
   "source": [
    "b =  \"premsharma\"\n",
    "print(b[0:13:2])"
   ]
  },
  {
   "cell_type": "code",
   "execution_count": 286,
   "metadata": {},
   "outputs": [
    {
     "name": "stdout",
     "output_type": "stream",
     "text": [
      "premsharma\n"
     ]
    }
   ],
   "source": [
    "b =  \"premsharma\"\n",
    "print(b[:12])"
   ]
  },
  {
   "cell_type": "code",
   "execution_count": 288,
   "metadata": {},
   "outputs": [
    {
     "name": "stdout",
     "output_type": "stream",
     "text": [
      "PREMNARAYANSHARMAISAGOODBOYSOHECANNOTAFFIARE\n"
     ]
    }
   ],
   "source": [
    "x = \"premnarayansharmaisagoodboysohecannotaffiare\"\n",
    "print(x.upper())"
   ]
  },
  {
   "cell_type": "code",
   "execution_count": 289,
   "metadata": {},
   "outputs": [
    {
     "name": "stdout",
     "output_type": "stream",
     "text": [
      "sharmanarayansharmaisagoodboysohecannotaffiare\n"
     ]
    }
   ],
   "source": [
    "b =  \"premsharma\"\n",
    "print(x.replace(\"prem\", \"sharma\"))"
   ]
  },
  {
   "cell_type": "code",
   "execution_count": 297,
   "metadata": {},
   "outputs": [
    {
     "name": "stdout",
     "output_type": "stream",
     "text": [
      "['hello', 'prem', 'sharma', 'how', 'are', 'you']\n"
     ]
    }
   ],
   "source": [
    "a =  [\"hello\", \"prem\", \"sharma\", \"how\", \"are\", \"you\"]\n",
    "# print(a)\n",
    "b =  [\"prem\", \"sharma\", \"how\", \"are\", \"you\"]\n",
    "# print(b)\n",
    "if a < b:\n",
    "    print(a)\n",
    "else :\n",
    "    print(b)"
   ]
  },
  {
   "cell_type": "code",
   "execution_count": null,
   "metadata": {},
   "outputs": [],
   "source": [
    "rows = 5\n",
    "\n",
    "for i in range(1, rows + 1):\n",
    "    print(\" \" * (rows - i), end=\"\")\n",
    "    print(\"1\" * (2 * i - 1))\n"
   ]
  },
  {
   "cell_type": "code",
   "execution_count": null,
   "metadata": {},
   "outputs": [],
   "source": []
  }
 ],
 "metadata": {
  "kernelspec": {
   "display_name": "Python 3",
   "language": "python",
   "name": "python3"
  },
  "language_info": {
   "codemirror_mode": {
    "name": "ipython",
    "version": 3
   },
   "file_extension": ".py",
   "mimetype": "text/x-python",
   "name": "python",
   "nbconvert_exporter": "python",
   "pygments_lexer": "ipython3",
   "version": "3.12.7"
  }
 },
 "nbformat": 4,
 "nbformat_minor": 2
}
