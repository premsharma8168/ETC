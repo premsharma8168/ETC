{
 "cells": [
  {
   "cell_type": "code",
   "execution_count": 3,
   "metadata": {},
   "outputs": [
    {
     "name": "stdout",
     "output_type": "stream",
     "text": [
      "   company  job  degree  salary_more_then_100k\n",
      "0        2    2       0                      0\n",
      "1        2    2       1                      0\n",
      "2        2    0       0                      1\n",
      "3        2    0       1                      1\n",
      "4        2    1       0                      0\n"
     ]
    }
   ],
   "source": [
    "import pandas as pd\n",
    "from sklearn.preprocessing import LabelEncoder\n",
    "\n",
    "file_path = 'salaries.csv'\n",
    "salaries_df = pd.read_csv(file_path)\n",
    "\n",
    "label_encoder = LabelEncoder()\n",
    "\n",
    "salaries_df['company'] = label_encoder.fit_transform(salaries_df['company'])\n",
    "salaries_df['job'] = label_encoder.fit_transform(salaries_df['job'])\n",
    "salaries_df['degree'] = label_encoder.fit_transform(salaries_df['degree'])\n",
    "\n",
    "print(salaries_df.head())\n"
   ]
  },
  {
   "cell_type": "code",
   "execution_count": null,
   "metadata": {},
   "outputs": [],
   "source": [
    "import numpy as np \n",
    "import sklearn as skt"
   ]
  }
 ],
 "metadata": {
  "kernelspec": {
   "display_name": "Python 3",
   "language": "python",
   "name": "python3"
  },
  "language_info": {
   "codemirror_mode": {
    "name": "ipython",
    "version": 3
   },
   "file_extension": ".py",
   "mimetype": "text/x-python",
   "name": "python",
   "nbconvert_exporter": "python",
   "pygments_lexer": "ipython3",
   "version": "3.12.7"
  }
 },
 "nbformat": 4,
 "nbformat_minor": 2
}
